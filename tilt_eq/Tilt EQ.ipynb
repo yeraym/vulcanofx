{
 "cells": [
  {
   "cell_type": "markdown",
   "metadata": {
    "collapsed": true
   },
   "source": [
    "\n",
    "Plotting Tilt EQ Frequency response\n",
    "==================\n",
    "\n",
    "After reading [this article by Francesco Baena](http://www.edn.com/design/analog/4368935/Implement-an-audio-frequency-tilt-equalizer-filter) I decided to try to plot the frequency response of the EQ section of the Diamond compressor.\n",
    "\n",
    "Expected results\n",
    "-----------------\n",
    "\n",
    "First I calculated the expected results using the component values of the Diamond compressor.\n",
    "\n",
    "Using the next formula we can calculate the pivot frequency $F_P$:\n",
    "\n",
    "$$\n",
    "F_P = \\frac{\\sqrt{P_1 + 2 \\times R_F }}{2 \\times \\pi \\times C \\times \\sqrt{R_F - R} \\times \\sqrt{P_1  \\times \\lgroup R + R_F \\rgroup + 2 \\times R \\times R_F}}\n",
    "$$\n",
    "\n",
    "To calculate the maximum low-boost asymptote as $M_L$ (bass boost) and the maximum high-boost asymptote as $M_H$ (treble boost):\n",
    "\n",
    "$$\n",
    "M_L = \\frac{P_1 + R_F}{R_F}\n",
    "$$\n",
    "\n",
    "$$\n",
    "M_H = \\frac{P_1 + R}{R \\times M_L}\n",
    "$$\n",
    "\n",
    "In decibels:\n",
    "\n",
    "$$\n",
    "20 \\times log(M_L) = 20 \\times log( \\frac{P_1 + R_F}{R_F})\n",
    "$$\n",
    "\n",
    "$$\n",
    "20 \\times log(M_H) = 20 \\times log( \\frac{P_1 + R}{R \\times M_L})\n",
    "$$\n",
    "\n",
    "Using $R = 15 K \\Omega , R_F = 47 K \\Omega , C = 5.6 nF$:\n",
    "\n",
    "$$\n",
    "F_P = 879.73 Hz\n",
    "$$\n",
    "\n",
    "$$\n",
    "20 \\times log(M_L) = 6.30db\n",
    "$$\n",
    "\n",
    "$$\n",
    "20 \\times log(M_H) = 6.44db\n",
    "$$\n",
    "\n",
    "Circuit simulation\n",
    "-------------------\n",
    "\n",
    "Then I simulated the circuit in LTSpice. We get the expected frequency response.\n",
    "\n",
    "LTSpice schematic:\n",
    "![alt text](http://3.bp.blogspot.com/-eJ3VyWJd8a4/UfLYwxQAicI/AAAAAAAAAd8/LmNj-_g8ufA/s1600/tilt+eq+sch+sim+5.6nF.png \"LTSpice schematic\")\n",
    "\n",
    "Frequency Response:\n",
    "![alt text](http://1.bp.blogspot.com/-jhryi8_gGA8/UfLY_5hxo1I/AAAAAAAAAeE/Gu-cgFCJ8Vk/s1600/tilt+eq+5.6+nF.png \"Frequency Response\")\n",
    "\n",
    "Plotting the transfer function\n",
    "--------------------------------\n",
    "\n",
    "At last I tried to plot the transfer function in python but we don't get the same result.\n",
    "\n",
    "$$\n",
    "\\frac{V_O}{V_I} = \\frac{X \\times \\lgroup Z - R_F \\rgroup - Z \\times \\lgroup P_1 - R_F \\rgroup}{X \\times \\lgroup Z - R_F \\rgroup + R_F \\times \\lgroup Z + P_1 \\rgroup}\n",
    "$$\n",
    "\n",
    "$$\n",
    "Z = R + \\frac{1}{i \\times 2 \\times \\pi \\times F \\times C}\n",
    "$$\n",
    "\n",
    "\n",
    "Here is the code I use to plot the transfer function in Python:"
   ]
  },
  {
   "cell_type": "code",
   "execution_count": 1,
   "metadata": {
    "collapsed": false,
    "scrolled": true
   },
   "outputs": [
    {
     "name": "stdout",
     "output_type": "stream",
     "text": [
      "Center Frequency (Hz): 897.738996208698\n",
      "Bass boost (db): 6.293477526610548\n",
      "Treble boost (db): 6.4429644251329385\n"
     ]
    },
    {
     "data": {
      "image/png": "[encoded data removed]",
      "text/plain": [
       "<matplotlib.figure.Figure at 0xa35d6d8>"
      ]
     },
     "metadata": {},
     "output_type": "display_data"
    }
   ],
   "source": [
    "import numpy as np\n",
    "from matplotlib import pyplot as plt\n",
    "import math\n",
    "%matplotlib inline\n",
    "\n",
    "R = 15.0 * 1000 # 15 Kohm\n",
    "C = 0.0000000056 # 5.6 nF\n",
    "Rf = 47.0 * 1000 # 47 Kohm\n",
    "\n",
    "X = 0.0 # 0 Kohm\n",
    "P1 = 50.0 * 1000.0 # 50 Kohm\n",
    "\n",
    "f = np.arange(10, 10e4, 10) \n",
    "w = 2*math.pi*f\n",
    "Z = R + ( 1 / (1j*w*C))\n",
    "\n",
    "\n",
    "\n",
    "plt.figure()\n",
    "\n",
    "for i in np.arange(0,55,5):\n",
    "    X = i * 1000.0\n",
    "    \n",
    "    num = X*(Z-Rf) - Z*(P1+Rf)\n",
    "    den = X*(Z-Rf) + Rf*(Z+P1)\n",
    "    h = np.abs(num/den)\n",
    "    hdb = 20 * np.log10(h)\n",
    "\n",
    "    plt.semilogx(w, hdb, color=\"blue\")    # Bode magnitude plot\n",
    "    \n",
    "    \n",
    "plt.xlabel (\"Frequency\")\n",
    "plt.ylabel (\"Magnitude\")\n",
    "plt.grid(b=True, which='major', color='gray', linestyle='-')\n",
    "plt.grid(b=True, which='minor', color='gray', linestyle='--')\n",
    "\n",
    "\n",
    "Fp = math.sqrt(P1 + 2*Rf) / (2 * math.pi * C * math.sqrt(Rf-R) * math.sqrt(P1*(R+Rf) + 2*R*Rf))\n",
    "ML = (P1 + Rf) / Rf\n",
    "MH = (P1 + R) / (R * ML)\n",
    "\n",
    "MLdb = 20 * math.log10(ML)\n",
    "MHdb = 20 * math.log10(MH)\n",
    "\n",
    "plt.axvline(Fp, color='red')\n",
    "\n",
    "print \"Center Frequency (Hz): \" + `Fp`\n",
    "print \"Bass boost (db): \" + `MLdb`\n",
    "print \"Treble boost (db): \" + `MHdb`\n"
   ]
  },
  {
   "cell_type": "markdown",
   "metadata": {
    "collapsed": true
   },
   "source": [
    "As we can see the pivot frequency expected (vertical red line) and the actual pivot frequncy are not the same"
   ]
  },
  {
   "cell_type": "code",
   "execution_count": null,
   "metadata": {
    "collapsed": true
   },
   "outputs": [],
   "source": []
  }
 ],
 "metadata": {
  "kernelspec": {
   "display_name": "Python 2",
   "language": "python",
   "name": "python2"
  },
  "language_info": {
   "codemirror_mode": {
    "name": "ipython",
    "version": 2
   },
   "file_extension": ".py",
   "mimetype": "text/x-python",
   "name": "python",
   "nbconvert_exporter": "python",
   "pygments_lexer": "ipython2",
   "version": "2.7.10"
  }
 },
 "nbformat": 4,
 "nbformat_minor": 0
}
